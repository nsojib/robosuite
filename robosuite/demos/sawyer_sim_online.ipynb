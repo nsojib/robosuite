{
 "cells": [
  {
   "cell_type": "code",
   "execution_count": 178,
   "metadata": {},
   "outputs": [],
   "source": [
    "import argparse\n",
    "import os\n",
    "from glob import glob\n",
    "\n",
    "import numpy as np \n",
    "import robosuite as suite \n",
    "import time"
   ]
  },
  {
   "attachments": {},
   "cell_type": "markdown",
   "metadata": {},
   "source": [
    "### pop up viewer"
   ]
  },
  {
   "cell_type": "code",
   "execution_count": 179,
   "metadata": {},
   "outputs": [],
   "source": [
    "# create original environment\n",
    "env = suite.make(\n",
    "    \"Lift\",\n",
    "    robots=\"Sawyer\",\n",
    "    ignore_done=True,\n",
    "    use_camera_obs=False,\n",
    "    has_renderer=True,\n",
    "    has_offscreen_renderer=False,\n",
    "    control_freq=20,\n",
    ")"
   ]
  },
  {
   "cell_type": "code",
   "execution_count": null,
   "metadata": {},
   "outputs": [],
   "source": []
  },
  {
   "cell_type": "code",
   "execution_count": 180,
   "metadata": {},
   "outputs": [
    {
     "data": {
      "text/plain": [
       "(59, 7)"
      ]
     },
     "execution_count": 180,
     "metadata": {},
     "output_type": "execute_result"
    }
   ],
   "source": [
    "fp='/home/ns/sawyer_sim_real/actions_p3.npy'\n",
    "actions=np.load(fp)\n",
    "actions.shape"
   ]
  },
  {
   "cell_type": "code",
   "execution_count": 188,
   "metadata": {},
   "outputs": [],
   "source": [
    "# env.reset()\n",
    "env.render()"
   ]
  },
  {
   "cell_type": "code",
   "execution_count": 183,
   "metadata": {},
   "outputs": [],
   "source": [
    "vel_gotopos(actions[0], kp=0.5)"
   ]
  },
  {
   "cell_type": "code",
   "execution_count": 185,
   "metadata": {},
   "outputs": [],
   "source": [
    "gripper_open()"
   ]
  },
  {
   "cell_type": "code",
   "execution_count": null,
   "metadata": {},
   "outputs": [],
   "source": [
    "for action in actions:\n",
    "    vel_gotopos(action, kp=0.5)"
   ]
  },
  {
   "cell_type": "code",
   "execution_count": 189,
   "metadata": {},
   "outputs": [],
   "source": [
    "env.close()"
   ]
  },
  {
   "cell_type": "code",
   "execution_count": null,
   "metadata": {},
   "outputs": [],
   "source": [
    "# "
   ]
  },
  {
   "cell_type": "code",
   "execution_count": null,
   "metadata": {},
   "outputs": [],
   "source": []
  },
  {
   "cell_type": "code",
   "execution_count": 3,
   "metadata": {},
   "outputs": [
    {
     "data": {
      "text/plain": [
       "(159, 7)"
      ]
     },
     "execution_count": 3,
     "metadata": {},
     "output_type": "execute_result"
    }
   ],
   "source": [
    "fn='/home/ns/wreg/matlab/sawyer_experiments/jps.csv'\n",
    "fn='/home/ns/wreg/matlab/sawyer_experiments/jps2.csv'\n",
    "fn='/home/ns/wreg/matlab/sawyer_experiments/jps3.csv'\n",
    "\n",
    "#read csv using numpy\n",
    "import numpy as np\n",
    "data=np.genfromtxt(fn,delimiter=',',skip_header=1)[:, 1:8]\n",
    "\n",
    "\n",
    "data=data[::-1] #weired reason\n",
    "\n",
    "data.shape"
   ]
  },
  {
   "cell_type": "code",
   "execution_count": 4,
   "metadata": {},
   "outputs": [
    {
     "name": "stderr",
     "output_type": "stream",
     "text": [
      "qt.qpa.plugin: Could not find the Qt platform plugin \"wayland\" in \"/home/ns/anaconda3/envs/robosuite/lib/python3.8/site-packages/cv2/qt/plugins\"\n"
     ]
    }
   ],
   "source": [
    "action = np.zeros(8)\n",
    "for i in range(5):\n",
    "    action[-1] = -0.1  #open\n",
    "    env.step(action)\n",
    "    env.render()"
   ]
  },
  {
   "cell_type": "code",
   "execution_count": 5,
   "metadata": {},
   "outputs": [],
   "source": [
    "# env.reset()\n",
    "pos=data[0]\n",
    "env.robots[0].set_robot_joint_positions(pos)\n",
    "env.render()"
   ]
  },
  {
   "cell_type": "code",
   "execution_count": 6,
   "metadata": {},
   "outputs": [],
   "source": [
    "for pos in data:\n",
    "    env.robots[0].set_robot_joint_positions(pos)\n",
    "    env.render()\n",
    "\n",
    "    time.sleep(0.03)"
   ]
  },
  {
   "cell_type": "code",
   "execution_count": 7,
   "metadata": {},
   "outputs": [],
   "source": [
    "action = np.zeros(8)\n",
    "for i in range(5):\n",
    "    action[-1] = 0.1  #close\n",
    "    env.step(action)\n",
    "    env.render()"
   ]
  },
  {
   "cell_type": "code",
   "execution_count": 8,
   "metadata": {},
   "outputs": [],
   "source": [
    "for pos in data[::-1]:\n",
    "    env.robots[0].set_robot_joint_positions(pos)\n",
    "    env.render()\n",
    "\n",
    "    time.sleep(0.03)"
   ]
  },
  {
   "cell_type": "code",
   "execution_count": 177,
   "metadata": {},
   "outputs": [],
   "source": [
    "# env.robots[0].current_joint_positions()"
   ]
  },
  {
   "cell_type": "code",
   "execution_count": null,
   "metadata": {},
   "outputs": [],
   "source": []
  },
  {
   "cell_type": "code",
   "execution_count": 184,
   "metadata": {},
   "outputs": [],
   "source": [
    "def vel_gotopos(target, kp=0.3):\n",
    "    cpos=env.sim.data.qpos[:7]\n",
    "    dpos=target-cpos\n",
    "    while np.linalg.norm(dpos)>0.1:\n",
    "        cpos=env.sim.data.qpos[:7]\n",
    "        dpos=target-cpos\n",
    "        a=dpos*kp\n",
    "        action=np.zeros(8)\n",
    "        action[:7]=a\n",
    "        env.step(action)\n",
    "        env.render()\n",
    "        # time.sleep(0.03)\n",
    "\n",
    "\n",
    "def gripper_close(n=15):\n",
    "    action = np.zeros(8)\n",
    "    for i in range(n):\n",
    "        action[-1] = 0.1  #close\n",
    "        env.step(action)\n",
    "        env.render()\n",
    "        \n",
    "def gripper_open(n=15):\n",
    "    action = np.zeros(8)\n",
    "    for i in range(n):\n",
    "        action[-1] = -0.1  \n",
    "        env.step(action)\n",
    "        env.render()"
   ]
  },
  {
   "cell_type": "code",
   "execution_count": 57,
   "metadata": {},
   "outputs": [],
   "source": [
    "vel_gotopos(data[0], kp=0.5)"
   ]
  },
  {
   "cell_type": "code",
   "execution_count": 56,
   "metadata": {},
   "outputs": [],
   "source": [
    "vel_gotopos(data[-1], kp=0.5)"
   ]
  },
  {
   "cell_type": "code",
   "execution_count": null,
   "metadata": {},
   "outputs": [],
   "source": []
  },
  {
   "cell_type": "code",
   "execution_count": null,
   "metadata": {},
   "outputs": [],
   "source": []
  },
  {
   "cell_type": "code",
   "execution_count": 58,
   "metadata": {},
   "outputs": [],
   "source": [
    "env.close()"
   ]
  },
  {
   "cell_type": "code",
   "execution_count": null,
   "metadata": {},
   "outputs": [],
   "source": []
  },
  {
   "attachments": {},
   "cell_type": "markdown",
   "metadata": {},
   "source": [
    "### modified table"
   ]
  },
  {
   "cell_type": "code",
   "execution_count": 70,
   "metadata": {},
   "outputs": [],
   "source": [
    "import argparse\n",
    "import os\n",
    "from glob import glob\n",
    "\n",
    "import numpy as np \n",
    "import robosuite as suite \n",
    "import time\n",
    "\n",
    "from robosuite.utils.placement_samplers import UniformRandomSampler\n",
    "from robosuite.utils.mjcf_utils import CustomMaterial\n",
    "from robosuite.models.objects import BoxObject"
   ]
  },
  {
   "cell_type": "code",
   "execution_count": 148,
   "metadata": {},
   "outputs": [],
   "source": [
    "table_offset=np.array((0, 0, 1.2))\n",
    "\n",
    "# initialize objects of interest\n",
    "tex_attrib = {\n",
    "    \"type\": \"cube\",\n",
    "}\n",
    "mat_attrib = {\n",
    "    \"texrepeat\": \"1 1\",\n",
    "    \"specular\": \"0.4\",\n",
    "    \"shininess\": \"0.1\",\n",
    "}\n",
    "redwood = CustomMaterial(\n",
    "    texture=\"WoodRed\",\n",
    "    tex_name=\"redwood\",\n",
    "    mat_name=\"redwood_mat\",\n",
    "    tex_attrib=tex_attrib,\n",
    "    mat_attrib=mat_attrib,\n",
    ")\n",
    "\n",
    "\n",
    "cube = BoxObject(\n",
    "    name=\"cube\",\n",
    "    size_min=[0.020, 0.020, 0.020],  # [0.015, 0.015, 0.015],\n",
    "    size_max=[0.022, 0.022, 0.022],  # [0.018, 0.018, 0.018])\n",
    "    rgba=[1, 0, 0, 1],\n",
    "    material=redwood,\n",
    ")\n",
    "\n",
    "\n",
    "placement_initializer = UniformRandomSampler(\n",
    "                name=\"ObjectSampler\",\n",
    "                mujoco_objects= cube,\n",
    "                x_range=[-0.02, -0.02],\n",
    "                y_range=[0.08, 0.08],\n",
    "                rotation=0,\n",
    "                ensure_object_boundary_in_range=False,\n",
    "                ensure_valid_placement=True,\n",
    "                reference_pos= table_offset,\n",
    "                z_offset=0.03,\n",
    "            )"
   ]
  },
  {
   "cell_type": "code",
   "execution_count": 149,
   "metadata": {},
   "outputs": [],
   "source": [
    "env = suite.make(\n",
    "    \"Lift\",\n",
    "    robots=\"Sawyer\",\n",
    "    ignore_done=True,\n",
    "    use_camera_obs=False,\n",
    "    has_renderer=True,\n",
    "    has_offscreen_renderer=False,\n",
    "    control_freq=20, \n",
    "    table_offset=np.array((0, 0, 0.96)),\n",
    "    placement_initializer=placement_initializer,\n",
    ")"
   ]
  },
  {
   "cell_type": "code",
   "execution_count": 150,
   "metadata": {},
   "outputs": [],
   "source": [
    "env.reset()\n",
    "pass "
   ]
  },
  {
   "cell_type": "code",
   "execution_count": 175,
   "metadata": {},
   "outputs": [],
   "source": [
    "vel_gotopos(data[0], kp=0.5)"
   ]
  },
  {
   "cell_type": "code",
   "execution_count": 174,
   "metadata": {},
   "outputs": [],
   "source": [
    "gripper_open()"
   ]
  },
  {
   "cell_type": "code",
   "execution_count": 173,
   "metadata": {},
   "outputs": [],
   "source": [
    "vel_gotopos(data[-1], kp=0.5)"
   ]
  },
  {
   "cell_type": "code",
   "execution_count": null,
   "metadata": {},
   "outputs": [],
   "source": []
  },
  {
   "cell_type": "code",
   "execution_count": 153,
   "metadata": {},
   "outputs": [],
   "source": [
    "for pos in data:\n",
    "    vel_gotopos(pos, kp=0.5)"
   ]
  },
  {
   "cell_type": "code",
   "execution_count": 160,
   "metadata": {},
   "outputs": [],
   "source": []
  },
  {
   "cell_type": "code",
   "execution_count": 171,
   "metadata": {},
   "outputs": [],
   "source": [
    "gripper_close()"
   ]
  },
  {
   "cell_type": "code",
   "execution_count": 166,
   "metadata": {},
   "outputs": [],
   "source": [
    "gripper_open()"
   ]
  },
  {
   "cell_type": "code",
   "execution_count": 164,
   "metadata": {},
   "outputs": [],
   "source": [
    "def idle(n=50):\n",
    "    action = np.zeros(8)\n",
    "    for i in range(n): \n",
    "        env.step(action)\n",
    "        env.render()"
   ]
  },
  {
   "cell_type": "code",
   "execution_count": 165,
   "metadata": {},
   "outputs": [],
   "source": [
    "idle()"
   ]
  },
  {
   "cell_type": "code",
   "execution_count": null,
   "metadata": {},
   "outputs": [],
   "source": []
  },
  {
   "cell_type": "code",
   "execution_count": 176,
   "metadata": {},
   "outputs": [],
   "source": [
    "env.close()"
   ]
  },
  {
   "cell_type": "code",
   "execution_count": null,
   "metadata": {},
   "outputs": [],
   "source": []
  },
  {
   "cell_type": "code",
   "execution_count": null,
   "metadata": {},
   "outputs": [],
   "source": []
  },
  {
   "cell_type": "code",
   "execution_count": null,
   "metadata": {},
   "outputs": [],
   "source": []
  },
  {
   "cell_type": "code",
   "execution_count": null,
   "metadata": {},
   "outputs": [],
   "source": []
  },
  {
   "cell_type": "code",
   "execution_count": null,
   "metadata": {},
   "outputs": [],
   "source": []
  }
 ],
 "metadata": {
  "kernelspec": {
   "display_name": "robosuite",
   "language": "python",
   "name": "python3"
  },
  "language_info": {
   "codemirror_mode": {
    "name": "ipython",
    "version": 3
   },
   "file_extension": ".py",
   "mimetype": "text/x-python",
   "name": "python",
   "nbconvert_exporter": "python",
   "pygments_lexer": "ipython3",
   "version": "3.8.16"
  },
  "orig_nbformat": 4,
  "vscode": {
   "interpreter": {
    "hash": "0d4242a2ce141748e6109d2e1f5b18e6975c8f8be333cffdb6faf41580d89511"
   }
  }
 },
 "nbformat": 4,
 "nbformat_minor": 2
}
