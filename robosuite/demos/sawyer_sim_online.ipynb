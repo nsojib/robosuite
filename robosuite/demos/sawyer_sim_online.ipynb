{
 "cells": [
  {
   "cell_type": "code",
   "execution_count": 20,
   "metadata": {},
   "outputs": [],
   "source": [
    "import argparse\n",
    "import os\n",
    "from glob import glob\n",
    "\n",
    "import numpy as np \n",
    "import robosuite as suite \n",
    "import time\n",
    "import tqdm"
   ]
  },
  {
   "attachments": {},
   "cell_type": "markdown",
   "metadata": {},
   "source": [
    "### pop up viewer"
   ]
  },
  {
   "cell_type": "code",
   "execution_count": 2,
   "metadata": {},
   "outputs": [],
   "source": [
    "# create original environment\n",
    "env = suite.make(\n",
    "    \"Lift\",\n",
    "    robots=\"Sawyer\",\n",
    "    ignore_done=True,\n",
    "    use_camera_obs=False,\n",
    "    has_renderer=True,\n",
    "    has_offscreen_renderer=False,\n",
    "    control_freq=20,\n",
    ")"
   ]
  },
  {
   "cell_type": "code",
   "execution_count": 4,
   "metadata": {},
   "outputs": [],
   "source": [
    "def vel_gotopos(target, kp=0.3):\n",
    "    cpos=env.sim.data.qpos[:7]\n",
    "    dpos=target-cpos\n",
    "    while np.linalg.norm(dpos)>0.1:\n",
    "        cpos=env.sim.data.qpos[:7]\n",
    "        dpos=target-cpos\n",
    "        a=dpos*kp\n",
    "        action=np.zeros(8)\n",
    "        action[:7]=a\n",
    "        env.step(action)\n",
    "        env.render()\n",
    "        # time.sleep(0.03)\n",
    "\n",
    "\n",
    "def gripper_close(n=15):\n",
    "    action = np.zeros(8)\n",
    "    for i in range(n):\n",
    "        action[-1] = 0.1  #close\n",
    "        env.step(action)\n",
    "        env.render()\n",
    "        \n",
    "def gripper_open(n=15):\n",
    "    action = np.zeros(8)\n",
    "    for i in range(n):\n",
    "        action[-1] = -0.1  \n",
    "        env.step(action)\n",
    "        env.render()"
   ]
  },
  {
   "cell_type": "code",
   "execution_count": 11,
   "metadata": {},
   "outputs": [
    {
     "data": {
      "text/plain": [
       "((59, 7), (59, 7))"
      ]
     },
     "execution_count": 11,
     "metadata": {},
     "output_type": "execute_result"
    }
   ],
   "source": [
    "fp_real='/home/ns/sawyer_sim_real/bc_lstm_img2real_1r.npy'\n",
    "fp_pred='/home/ns/sawyer_sim_real/bc_lstm_img2real_1p.npy'\n",
    "\n",
    "actions_real, actions_pred = np.load(fp_real), np.load(fp_pred)\n",
    "actions_real.shape, actions_pred.shape"
   ]
  },
  {
   "cell_type": "code",
   "execution_count": 12,
   "metadata": {},
   "outputs": [],
   "source": [
    "env.reset()\n",
    "env.render()"
   ]
  },
  {
   "cell_type": "code",
   "execution_count": 24,
   "metadata": {},
   "outputs": [],
   "source": [
    "vel_gotopos(actions_real[0], kp=0.5)"
   ]
  },
  {
   "cell_type": "code",
   "execution_count": 14,
   "metadata": {},
   "outputs": [],
   "source": [
    "gripper_open()"
   ]
  },
  {
   "cell_type": "code",
   "execution_count": 15,
   "metadata": {},
   "outputs": [],
   "source": [
    "actions=actions_real \n",
    "for action in tqdm.tqdm(actions):\n",
    "    vel_gotopos(action, kp=0.5)"
   ]
  },
  {
   "cell_type": "code",
   "execution_count": 23,
   "metadata": {},
   "outputs": [
    {
     "name": "stderr",
     "output_type": "stream",
     "text": []
    },
    {
     "ename": "KeyboardInterrupt",
     "evalue": "",
     "output_type": "error",
     "traceback": [
      "\u001b[0;31m---------------------------------------------------------------------------\u001b[0m",
      "\u001b[0;31mKeyboardInterrupt\u001b[0m                         Traceback (most recent call last)",
      "Cell \u001b[0;32mIn[23], line 3\u001b[0m\n\u001b[1;32m      1\u001b[0m actions\u001b[39m=\u001b[39mactions_pred \n\u001b[1;32m      2\u001b[0m \u001b[39mfor\u001b[39;00m action \u001b[39min\u001b[39;00m tqdm\u001b[39m.\u001b[39mtqdm(actions[\u001b[39m1\u001b[39m:]):\n\u001b[0;32m----> 3\u001b[0m     vel_gotopos(action, kp\u001b[39m=\u001b[39;49m\u001b[39m0.5\u001b[39;49m)\n",
      "Cell \u001b[0;32mIn[4], line 10\u001b[0m, in \u001b[0;36mvel_gotopos\u001b[0;34m(target, kp)\u001b[0m\n\u001b[1;32m      8\u001b[0m action\u001b[39m=\u001b[39mnp\u001b[39m.\u001b[39mzeros(\u001b[39m8\u001b[39m)\n\u001b[1;32m      9\u001b[0m action[:\u001b[39m7\u001b[39m]\u001b[39m=\u001b[39ma\n\u001b[0;32m---> 10\u001b[0m env\u001b[39m.\u001b[39;49mstep(action)\n\u001b[1;32m     11\u001b[0m env\u001b[39m.\u001b[39mrender()\n",
      "File \u001b[0;32m~/anaconda3/envs/robosuite/lib/python3.8/site-packages/robosuite/environments/base.py:391\u001b[0m, in \u001b[0;36mMujocoEnv.step\u001b[0;34m(self, action)\u001b[0m\n\u001b[1;32m    389\u001b[0m \u001b[39mself\u001b[39m\u001b[39m.\u001b[39msim\u001b[39m.\u001b[39mforward()\n\u001b[1;32m    390\u001b[0m \u001b[39mself\u001b[39m\u001b[39m.\u001b[39m_pre_action(action, policy_step)\n\u001b[0;32m--> 391\u001b[0m \u001b[39mself\u001b[39;49m\u001b[39m.\u001b[39;49msim\u001b[39m.\u001b[39;49mstep()\n\u001b[1;32m    392\u001b[0m \u001b[39mself\u001b[39m\u001b[39m.\u001b[39m_update_observables()\n\u001b[1;32m    393\u001b[0m policy_step \u001b[39m=\u001b[39m \u001b[39mFalse\u001b[39;00m\n",
      "File \u001b[0;32m~/anaconda3/envs/robosuite/lib/python3.8/site-packages/robosuite/utils/binding_utils.py:1092\u001b[0m, in \u001b[0;36mMjSim.step\u001b[0;34m(self, with_udd)\u001b[0m\n\u001b[1;32m   1090\u001b[0m \u001b[39mdef\u001b[39;00m \u001b[39mstep\u001b[39m(\u001b[39mself\u001b[39m, with_udd\u001b[39m=\u001b[39m\u001b[39mTrue\u001b[39;00m):\n\u001b[1;32m   1091\u001b[0m \u001b[39m    \u001b[39m\u001b[39m\"\"\"Step simulation.\"\"\"\u001b[39;00m\n\u001b[0;32m-> 1092\u001b[0m     mujoco\u001b[39m.\u001b[39;49mmj_step(\u001b[39mself\u001b[39;49m\u001b[39m.\u001b[39;49mmodel\u001b[39m.\u001b[39;49m_model, \u001b[39mself\u001b[39;49m\u001b[39m.\u001b[39;49mdata\u001b[39m.\u001b[39;49m_data)\n",
      "\u001b[0;31mKeyboardInterrupt\u001b[0m: "
     ]
    }
   ],
   "source": [
    "actions=actions_pred \n",
    "for action in tqdm.tqdm(actions[1:]):\n",
    "    vel_gotopos(action, kp=0.5)"
   ]
  },
  {
   "cell_type": "code",
   "execution_count": null,
   "metadata": {},
   "outputs": [],
   "source": []
  },
  {
   "cell_type": "code",
   "execution_count": null,
   "metadata": {},
   "outputs": [],
   "source": []
  },
  {
   "cell_type": "code",
   "execution_count": 25,
   "metadata": {},
   "outputs": [],
   "source": [
    "env.close()"
   ]
  },
  {
   "cell_type": "code",
   "execution_count": null,
   "metadata": {},
   "outputs": [],
   "source": [
    "# "
   ]
  },
  {
   "cell_type": "code",
   "execution_count": null,
   "metadata": {},
   "outputs": [],
   "source": []
  },
  {
   "cell_type": "code",
   "execution_count": 3,
   "metadata": {},
   "outputs": [
    {
     "data": {
      "text/plain": [
       "(159, 7)"
      ]
     },
     "execution_count": 3,
     "metadata": {},
     "output_type": "execute_result"
    }
   ],
   "source": [
    "fn='/home/ns/wreg/matlab/sawyer_experiments/jps.csv'\n",
    "fn='/home/ns/wreg/matlab/sawyer_experiments/jps2.csv'\n",
    "fn='/home/ns/wreg/matlab/sawyer_experiments/jps3.csv'\n",
    "\n",
    "#read csv using numpy\n",
    "import numpy as np\n",
    "data=np.genfromtxt(fn,delimiter=',',skip_header=1)[:, 1:8]\n",
    "\n",
    "\n",
    "data=data[::-1] #weired reason\n",
    "\n",
    "data.shape"
   ]
  },
  {
   "cell_type": "code",
   "execution_count": 4,
   "metadata": {},
   "outputs": [
    {
     "name": "stderr",
     "output_type": "stream",
     "text": [
      "qt.qpa.plugin: Could not find the Qt platform plugin \"wayland\" in \"/home/ns/anaconda3/envs/robosuite/lib/python3.8/site-packages/cv2/qt/plugins\"\n"
     ]
    }
   ],
   "source": [
    "action = np.zeros(8)\n",
    "for i in range(5):\n",
    "    action[-1] = -0.1  #open\n",
    "    env.step(action)\n",
    "    env.render()"
   ]
  },
  {
   "cell_type": "code",
   "execution_count": 5,
   "metadata": {},
   "outputs": [],
   "source": [
    "# env.reset()\n",
    "pos=data[0]\n",
    "env.robots[0].set_robot_joint_positions(pos)\n",
    "env.render()"
   ]
  },
  {
   "cell_type": "code",
   "execution_count": 6,
   "metadata": {},
   "outputs": [],
   "source": [
    "for pos in data:\n",
    "    env.robots[0].set_robot_joint_positions(pos)\n",
    "    env.render()\n",
    "\n",
    "    time.sleep(0.03)"
   ]
  },
  {
   "cell_type": "code",
   "execution_count": 7,
   "metadata": {},
   "outputs": [],
   "source": [
    "action = np.zeros(8)\n",
    "for i in range(5):\n",
    "    action[-1] = 0.1  #close\n",
    "    env.step(action)\n",
    "    env.render()"
   ]
  },
  {
   "cell_type": "code",
   "execution_count": 8,
   "metadata": {},
   "outputs": [],
   "source": [
    "for pos in data[::-1]:\n",
    "    env.robots[0].set_robot_joint_positions(pos)\n",
    "    env.render()\n",
    "\n",
    "    time.sleep(0.03)"
   ]
  },
  {
   "cell_type": "code",
   "execution_count": 177,
   "metadata": {},
   "outputs": [],
   "source": [
    "# env.robots[0].current_joint_positions()"
   ]
  },
  {
   "cell_type": "code",
   "execution_count": null,
   "metadata": {},
   "outputs": [],
   "source": []
  },
  {
   "cell_type": "code",
   "execution_count": 57,
   "metadata": {},
   "outputs": [],
   "source": [
    "vel_gotopos(data[0], kp=0.5)"
   ]
  },
  {
   "cell_type": "code",
   "execution_count": 56,
   "metadata": {},
   "outputs": [],
   "source": [
    "vel_gotopos(data[-1], kp=0.5)"
   ]
  },
  {
   "cell_type": "code",
   "execution_count": null,
   "metadata": {},
   "outputs": [],
   "source": []
  },
  {
   "cell_type": "code",
   "execution_count": null,
   "metadata": {},
   "outputs": [],
   "source": []
  },
  {
   "cell_type": "code",
   "execution_count": 58,
   "metadata": {},
   "outputs": [],
   "source": [
    "env.close()"
   ]
  },
  {
   "cell_type": "code",
   "execution_count": null,
   "metadata": {},
   "outputs": [],
   "source": []
  },
  {
   "attachments": {},
   "cell_type": "markdown",
   "metadata": {},
   "source": [
    "### modified table"
   ]
  },
  {
   "cell_type": "code",
   "execution_count": 70,
   "metadata": {},
   "outputs": [],
   "source": [
    "import argparse\n",
    "import os\n",
    "from glob import glob\n",
    "\n",
    "import numpy as np \n",
    "import robosuite as suite \n",
    "import time\n",
    "\n",
    "from robosuite.utils.placement_samplers import UniformRandomSampler\n",
    "from robosuite.utils.mjcf_utils import CustomMaterial\n",
    "from robosuite.models.objects import BoxObject"
   ]
  },
  {
   "cell_type": "code",
   "execution_count": 148,
   "metadata": {},
   "outputs": [],
   "source": [
    "table_offset=np.array((0, 0, 1.2))\n",
    "\n",
    "# initialize objects of interest\n",
    "tex_attrib = {\n",
    "    \"type\": \"cube\",\n",
    "}\n",
    "mat_attrib = {\n",
    "    \"texrepeat\": \"1 1\",\n",
    "    \"specular\": \"0.4\",\n",
    "    \"shininess\": \"0.1\",\n",
    "}\n",
    "redwood = CustomMaterial(\n",
    "    texture=\"WoodRed\",\n",
    "    tex_name=\"redwood\",\n",
    "    mat_name=\"redwood_mat\",\n",
    "    tex_attrib=tex_attrib,\n",
    "    mat_attrib=mat_attrib,\n",
    ")\n",
    "\n",
    "\n",
    "cube = BoxObject(\n",
    "    name=\"cube\",\n",
    "    size_min=[0.020, 0.020, 0.020],  # [0.015, 0.015, 0.015],\n",
    "    size_max=[0.022, 0.022, 0.022],  # [0.018, 0.018, 0.018])\n",
    "    rgba=[1, 0, 0, 1],\n",
    "    material=redwood,\n",
    ")\n",
    "\n",
    "\n",
    "placement_initializer = UniformRandomSampler(\n",
    "                name=\"ObjectSampler\",\n",
    "                mujoco_objects= cube,\n",
    "                x_range=[-0.02, -0.02],\n",
    "                y_range=[0.08, 0.08],\n",
    "                rotation=0,\n",
    "                ensure_object_boundary_in_range=False,\n",
    "                ensure_valid_placement=True,\n",
    "                reference_pos= table_offset,\n",
    "                z_offset=0.03,\n",
    "            )"
   ]
  },
  {
   "cell_type": "code",
   "execution_count": 149,
   "metadata": {},
   "outputs": [],
   "source": [
    "env = suite.make(\n",
    "    \"Lift\",\n",
    "    robots=\"Sawyer\",\n",
    "    ignore_done=True,\n",
    "    use_camera_obs=False,\n",
    "    has_renderer=True,\n",
    "    has_offscreen_renderer=False,\n",
    "    control_freq=20, \n",
    "    table_offset=np.array((0, 0, 0.96)),\n",
    "    placement_initializer=placement_initializer,\n",
    ")"
   ]
  },
  {
   "cell_type": "code",
   "execution_count": 150,
   "metadata": {},
   "outputs": [],
   "source": [
    "env.reset()\n",
    "pass "
   ]
  },
  {
   "cell_type": "code",
   "execution_count": 175,
   "metadata": {},
   "outputs": [],
   "source": [
    "vel_gotopos(data[0], kp=0.5)"
   ]
  },
  {
   "cell_type": "code",
   "execution_count": 174,
   "metadata": {},
   "outputs": [],
   "source": [
    "gripper_open()"
   ]
  },
  {
   "cell_type": "code",
   "execution_count": 173,
   "metadata": {},
   "outputs": [],
   "source": [
    "vel_gotopos(data[-1], kp=0.5)"
   ]
  },
  {
   "cell_type": "code",
   "execution_count": null,
   "metadata": {},
   "outputs": [],
   "source": []
  },
  {
   "cell_type": "code",
   "execution_count": 153,
   "metadata": {},
   "outputs": [],
   "source": [
    "for pos in data:\n",
    "    vel_gotopos(pos, kp=0.5)"
   ]
  },
  {
   "cell_type": "code",
   "execution_count": 160,
   "metadata": {},
   "outputs": [],
   "source": []
  },
  {
   "cell_type": "code",
   "execution_count": 171,
   "metadata": {},
   "outputs": [],
   "source": [
    "gripper_close()"
   ]
  },
  {
   "cell_type": "code",
   "execution_count": 166,
   "metadata": {},
   "outputs": [],
   "source": [
    "gripper_open()"
   ]
  },
  {
   "cell_type": "code",
   "execution_count": 164,
   "metadata": {},
   "outputs": [],
   "source": [
    "def idle(n=50):\n",
    "    action = np.zeros(8)\n",
    "    for i in range(n): \n",
    "        env.step(action)\n",
    "        env.render()"
   ]
  },
  {
   "cell_type": "code",
   "execution_count": 165,
   "metadata": {},
   "outputs": [],
   "source": [
    "idle()"
   ]
  },
  {
   "cell_type": "code",
   "execution_count": null,
   "metadata": {},
   "outputs": [],
   "source": []
  },
  {
   "cell_type": "code",
   "execution_count": 176,
   "metadata": {},
   "outputs": [],
   "source": [
    "env.close()"
   ]
  },
  {
   "cell_type": "code",
   "execution_count": null,
   "metadata": {},
   "outputs": [],
   "source": []
  },
  {
   "cell_type": "code",
   "execution_count": null,
   "metadata": {},
   "outputs": [],
   "source": []
  },
  {
   "cell_type": "code",
   "execution_count": null,
   "metadata": {},
   "outputs": [],
   "source": []
  },
  {
   "cell_type": "code",
   "execution_count": null,
   "metadata": {},
   "outputs": [],
   "source": []
  },
  {
   "cell_type": "code",
   "execution_count": null,
   "metadata": {},
   "outputs": [],
   "source": []
  }
 ],
 "metadata": {
  "kernelspec": {
   "display_name": "robosuite",
   "language": "python",
   "name": "python3"
  },
  "language_info": {
   "codemirror_mode": {
    "name": "ipython",
    "version": 3
   },
   "file_extension": ".py",
   "mimetype": "text/x-python",
   "name": "python",
   "nbconvert_exporter": "python",
   "pygments_lexer": "ipython3",
   "version": "3.8.16"
  },
  "orig_nbformat": 4,
  "vscode": {
   "interpreter": {
    "hash": "0d4242a2ce141748e6109d2e1f5b18e6975c8f8be333cffdb6faf41580d89511"
   }
  }
 },
 "nbformat": 4,
 "nbformat_minor": 2
}
