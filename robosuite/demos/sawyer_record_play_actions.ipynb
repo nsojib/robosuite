{
 "cells": [
  {
   "cell_type": "code",
   "execution_count": 1,
   "metadata": {},
   "outputs": [
    {
     "name": "stderr",
     "output_type": "stream",
     "text": [
      "[robosuite WARNING] No private macro file found! (__init__.py:7)\n",
      "[robosuite WARNING] It is recommended to use a private macro file (__init__.py:8)\n",
      "[robosuite WARNING] To setup, run: python /home/ns/anaconda3/envs/robosuite/lib/python3.8/site-packages/robosuite/scripts/setup_macros.py (__init__.py:9)\n"
     ]
    }
   ],
   "source": [
    "import argparse\n",
    "import os\n",
    "from glob import glob\n",
    "\n",
    "import numpy as np\n",
    "\n",
    "import robosuite as suite "
   ]
  },
  {
   "cell_type": "code",
   "execution_count": 2,
   "metadata": {},
   "outputs": [],
   "source": [
    "def collect_random_trajectory(env, timesteps=1000):\n",
    "    \"\"\"Run a random policy to collect trajectories.\"\"\"\n",
    "    \n",
    "    env.reset()\n",
    "    dof = env.action_dim\n",
    "\n",
    "    actions = []\n",
    "\n",
    "    for t in range(timesteps):\n",
    "        action = np.random.randn(dof)\n",
    "        actions.append(action)\n",
    "        env.step(action)\n",
    "        env.render()\n",
    "        if t % 100 == 0:\n",
    "            print(t)\n",
    "    \n",
    "    return actions"
   ]
  },
  {
   "cell_type": "code",
   "execution_count": 3,
   "metadata": {},
   "outputs": [],
   "source": [
    "parser = argparse.ArgumentParser()\n",
    "parser.add_argument(\"--environment\", type=str, default=\"Lift\")\n",
    "parser.add_argument(\"--robots\", nargs=\"+\", type=str, default=\"Sawyer\", help=\"Which robot(s) to use in the env\")\n",
    "parser.add_argument(\"--directory\", type=str, default=\"/tmp/\")\n",
    "parser.add_argument(\"--timesteps\", type=int, default=1000)\n",
    "args = parser.parse_args([])"
   ]
  },
  {
   "cell_type": "code",
   "execution_count": 5,
   "metadata": {},
   "outputs": [],
   "source": [
    "# create original environment\n",
    "env = suite.make(\n",
    "    args.environment,\n",
    "    robots=args.robots,\n",
    "    ignore_done=True,\n",
    "    use_camera_obs=False,\n",
    "    has_renderer=True,\n",
    "    has_offscreen_renderer=False,\n",
    "    control_freq=20,\n",
    ")\n",
    "\n",
    "\n",
    "# env = suite.make(\n",
    "#     args.environment,\n",
    "#     robots=args.robots,\n",
    "#     ignore_done=True,\n",
    "#     use_camera_obs=False,\n",
    "#     has_renderer=False,\n",
    "#     has_offscreen_renderer=True,\n",
    "#     control_freq=20,\n",
    "# )"
   ]
  },
  {
   "cell_type": "code",
   "execution_count": 6,
   "metadata": {},
   "outputs": [
    {
     "name": "stdout",
     "output_type": "stream",
     "text": [
      "Collecting some random data...\n",
      "0\n"
     ]
    }
   ],
   "source": [
    "print(\"Collecting some random data...\")\n",
    "actions=collect_random_trajectory(env, timesteps=100)"
   ]
  },
  {
   "cell_type": "code",
   "execution_count": 8,
   "metadata": {},
   "outputs": [],
   "source": [
    "# action.shape"
   ]
  },
  {
   "cell_type": "code",
   "execution_count": 66,
   "metadata": {},
   "outputs": [],
   "source": [
    "# env.reset() \n",
    "\n",
    "action=np.zeros(8)\n",
    "for i in range(100):\n",
    "    action[0] = -0.05\n",
    "    # action[1]  =0.01\n",
    "    env.step(action)\n",
    "    env.render()"
   ]
  },
  {
   "cell_type": "code",
   "execution_count": 67,
   "metadata": {},
   "outputs": [],
   "source": [
    "env.close()"
   ]
  },
  {
   "cell_type": "code",
   "execution_count": null,
   "metadata": {},
   "outputs": [],
   "source": []
  },
  {
   "cell_type": "code",
   "execution_count": 9,
   "metadata": {},
   "outputs": [],
   "source": [
    "#playing back the data\n",
    "\n",
    "env.reset() \n",
    "for action in actions: \n",
    "    env.step(action)\n",
    "    env.render()"
   ]
  },
  {
   "cell_type": "code",
   "execution_count": 53,
   "metadata": {},
   "outputs": [],
   "source": [
    "env.close()"
   ]
  },
  {
   "cell_type": "code",
   "execution_count": 17,
   "metadata": {},
   "outputs": [
    {
     "data": {
      "text/plain": [
       "array([ 0.23324412,  1.73055519, -0.02739413,  0.88585493,  0.55492683,\n",
       "       -0.6452703 , -0.94016989, -0.65802031])"
      ]
     },
     "execution_count": 17,
     "metadata": {},
     "output_type": "execute_result"
    }
   ],
   "source": [
    "# actioncreate original environment\n",
    "env = suite.make(\n",
    "    args.environment,\n",
    "    robots=args.robots,\n",
    "    ignore_done=True,\n",
    "    use_camera_obs=False,\n",
    "    has_renderer=True,\n",
    "    has_offscreen_renderer=False,\n",
    "    control_freq=20,\n",
    ")"
   ]
  },
  {
   "cell_type": "code",
   "execution_count": 51,
   "metadata": {},
   "outputs": [
    {
     "data": {
      "text/plain": [
       "[array([-0.242,  1.297,  1.938, -0.662,  0.441,  0.06 ,  0.461,  0.977]),\n",
       " array([ 0.699, -0.229, -1.138, -0.076,  0.438,  0.209,  0.532, -0.654]),\n",
       " array([ 0.636,  1.273,  0.108, -2.385,  2.746,  0.742, -1.13 ,  1.573]),\n",
       " array([ 0.843, -0.172, -0.933, -0.846, -1.415,  0.131, -0.722,  0.781])]"
      ]
     },
     "execution_count": 51,
     "metadata": {},
     "output_type": "execute_result"
    }
   ],
   "source": [
    "actions[:4]"
   ]
  },
  {
   "cell_type": "code",
   "execution_count": null,
   "metadata": {},
   "outputs": [],
   "source": []
  },
  {
   "cell_type": "code",
   "execution_count": null,
   "metadata": {},
   "outputs": [],
   "source": []
  },
  {
   "cell_type": "code",
   "execution_count": 11,
   "metadata": {},
   "outputs": [
    {
     "data": {
      "text/plain": [
       "(83, 9)"
      ]
     },
     "execution_count": 11,
     "metadata": {},
     "output_type": "execute_result"
    }
   ],
   "source": [
    "fn='/home/ns/wreg/matlab/sawyer_experiments/jps.csv'\n",
    "fn='/home/ns/wreg/matlab/sawyer_experiments/jps3.csv' #coke grab\n",
    "\n",
    "\n",
    "#read csv using numpy\n",
    "import numpy as np\n",
    "data=np.genfromtxt(fn,delimiter=',',skip_header=1)\n",
    "data.shape"
   ]
  },
  {
   "cell_type": "code",
   "execution_count": 12,
   "metadata": {},
   "outputs": [
    {
     "data": {
      "text/plain": [
       "(83, 8)"
      ]
     },
     "execution_count": 12,
     "metadata": {},
     "output_type": "execute_result"
    }
   ],
   "source": [
    "trajs=data[:,:8]\n",
    "trajs.shape"
   ]
  },
  {
   "cell_type": "code",
   "execution_count": 22,
   "metadata": {},
   "outputs": [],
   "source": [
    "env.reset() \n",
    "for action in trajs:\n",
    "    env.step(action)\n",
    "    env.render()"
   ]
  },
  {
   "cell_type": "code",
   "execution_count": 16,
   "metadata": {},
   "outputs": [
    {
     "data": {
      "text/plain": [
       "(8,)"
      ]
     },
     "execution_count": 16,
     "metadata": {},
     "output_type": "execute_result"
    }
   ],
   "source": [
    "action.shape"
   ]
  },
  {
   "cell_type": "code",
   "execution_count": 10,
   "metadata": {},
   "outputs": [],
   "source": [
    "env.close()"
   ]
  },
  {
   "cell_type": "code",
   "execution_count": 50,
   "metadata": {},
   "outputs": [
    {
     "data": {
      "text/plain": [
       "array([-1.119,  0.701,  0.492, -2.114,  1.282, -0.963, -1.887, -3.381])"
      ]
     },
     "execution_count": 50,
     "metadata": {},
     "output_type": "execute_result"
    }
   ],
   "source": [
    "trajs[0]"
   ]
  },
  {
   "cell_type": "code",
   "execution_count": 49,
   "metadata": {},
   "outputs": [
    {
     "data": {
      "text/plain": [
       "array([[-1.119,  0.701,  0.492, -2.114,  1.282, -0.963, -1.887, -3.381],\n",
       "       [-1.119,  0.702,  0.51 , -2.109,  1.282, -0.944, -1.88 , -3.381],\n",
       "       [-1.119,  0.703,  0.518, -2.099,  1.282, -0.931, -1.865, -3.381],\n",
       "       [-1.119,  0.704,  0.539, -2.088,  1.278, -0.921, -1.861, -3.382],\n",
       "       [-1.119,  0.703,  0.552, -2.073,  1.26 , -0.923, -1.861, -3.381]])"
      ]
     },
     "execution_count": 49,
     "metadata": {},
     "output_type": "execute_result"
    }
   ],
   "source": [
    "trajs[:5]"
   ]
  },
  {
   "cell_type": "code",
   "execution_count": null,
   "metadata": {},
   "outputs": [],
   "source": []
  },
  {
   "attachments": {},
   "cell_type": "markdown",
   "metadata": {},
   "source": [
    "### playing with the joints"
   ]
  },
  {
   "cell_type": "code",
   "execution_count": 18,
   "metadata": {},
   "outputs": [
    {
     "data": {
      "text/plain": [
       "array([ 0.23324412,  1.73055519, -0.02739413,  0.88585493,  0.55492683,\n",
       "       -0.6452703 , -0.94016989, -0.65802031])"
      ]
     },
     "execution_count": 18,
     "metadata": {},
     "output_type": "execute_result"
    }
   ],
   "source": [
    "action"
   ]
  },
  {
   "cell_type": "code",
   "execution_count": 25,
   "metadata": {},
   "outputs": [],
   "source": [
    "env.reset()\n",
    "env.render()"
   ]
  },
  {
   "cell_type": "code",
   "execution_count": 38,
   "metadata": {},
   "outputs": [],
   "source": [
    "env.reset() \n",
    "# env.step(action)\n",
    "for i in range(100):\n",
    "    # action[1]=0.001\n",
    "    # env.step(action)\n",
    "    env.render()"
   ]
  },
  {
   "cell_type": "code",
   "execution_count": 20,
   "metadata": {},
   "outputs": [],
   "source": [
    "env.close()"
   ]
  },
  {
   "cell_type": "code",
   "execution_count": 31,
   "metadata": {},
   "outputs": [],
   "source": [
    "action=actions[0]"
   ]
  },
  {
   "cell_type": "code",
   "execution_count": 42,
   "metadata": {},
   "outputs": [],
   "source": [
    "np.set_printoptions(precision=3)"
   ]
  },
  {
   "cell_type": "code",
   "execution_count": 45,
   "metadata": {},
   "outputs": [
    {
     "name": "stdout",
     "output_type": "stream",
     "text": [
      "[0.    0.001 0.018 0.006 0.    0.019 0.007 0.   ]\n",
      "[ 0.     0.001  0.009  0.01   0.     0.013  0.016 -0.   ]\n",
      "[ 0.     0.001  0.021  0.011 -0.003  0.01   0.004 -0.   ]\n",
      "[ 0.    -0.001  0.013  0.015 -0.019 -0.002  0.     0.001]\n",
      "[ 0.    -0.007 -0.018  0.002 -0.01  -0.003 -0.007 -0.   ]\n",
      "[ 0.    -0.005 -0.017  0.    -0.012 -0.017 -0.001  0.   ]\n",
      "[ 0.    -0.005 -0.018  0.    -0.014 -0.026 -0.005  0.   ]\n",
      "[ 0.    -0.004 -0.024  0.001 -0.015 -0.02  -0.002  0.   ]\n",
      "[ 0.    -0.002 -0.014  0.    -0.008 -0.016 -0.     0.   ]\n",
      "[ 0.    -0.001 -0.013  0.001 -0.007 -0.015 -0.001  0.   ]\n",
      "[ 0.    -0.001 -0.016  0.002 -0.009 -0.017 -0.006  0.   ]\n",
      "[ 0.    -0.001 -0.013  0.002 -0.008 -0.015 -0.009  0.   ]\n",
      "[ 0.    -0.001 -0.027  0.003 -0.011 -0.026 -0.013  0.   ]\n",
      "[ 0.    -0.    -0.015  0.001 -0.004 -0.015 -0.004 -0.   ]\n",
      "[ 0.    -0.001 -0.017  0.    -0.003 -0.014 -0.001  0.   ]\n",
      "[ 0.    -0.001 -0.027  0.    -0.005 -0.008 -0.001  0.   ]\n",
      "[ 0.     0.    -0.024  0.    -0.003 -0.016 -0.014  0.   ]\n",
      "[ 0.     0.    -0.033  0.001 -0.001 -0.027 -0.016 -0.   ]\n",
      "[ 0.000e+00  1.100e-04 -2.331e-02  4.000e-04  1.000e-04 -3.700e-03\n",
      " -1.700e-03  2.000e-04]\n",
      "[ 0.     0.    -0.018  0.     0.    -0.011 -0.001 -0.   ]\n",
      "[ 0.000e+00 -3.200e-04 -1.058e-02 -2.000e-04 -1.000e-04 -1.800e-02\n",
      "  0.000e+00 -3.000e-04]\n",
      "[ 0.    -0.    -0.001  0.     0.    -0.001  0.     0.   ]\n",
      "[ 0.0e+00 -1.0e-04 -4.1e-04  0.0e+00  1.0e-04 -6.0e-04  0.0e+00  0.0e+00]\n",
      "[ 0.  0. -0.  0.  0. -0.  0.  0.]\n",
      "[ 0.0e+00 -1.0e-04 -4.1e-04 -2.0e-04  1.0e-04  0.0e+00  0.0e+00  0.0e+00]\n",
      "[ 0.  0. -0. -0.  0. -0.  0.  0.]\n",
      "[ 0.  0.  0.  0.  0. -0.  0. -0.]\n",
      "[ 0.  0.  0. -0.  0.  0.  0.  0.]\n",
      "[ 0.  0. -0.  0.  0.  0.  0.  0.]\n",
      "[ 0.  0.  0.  0.  0. -0.  0.  0.]\n",
      "[0. 0. 0. 0. 0. 0. 0. 0.]\n",
      "[0. 0. 0. 0. 0. 0. 0. 0.]\n",
      "[0. 0. 0. 0. 0. 0. 0. 0.]\n",
      "[0. 0. 0. 0. 0. 0. 0. 0.]\n",
      "[ 0.e+00  1.e-04  0.e+00  0.e+00  0.e+00 -2.e-04 -2.e-04  0.e+00]\n",
      "[ 0.  0.  0. -0.  0.  0.  0.  0.]\n",
      "[0. 0. 0. 0. 0. 0. 0. 0.]\n",
      "[ 0.  0. -0. -0.  0. -0.  0.  0.]\n",
      "[0. 0. 0. 0. 0. 0. 0. 0.]\n",
      "[ 0.  0.  0.  0. -0.  0.  0.  0.]\n",
      "[ 0.  0. -0. -0.  0. -0.  0.  0.]\n",
      "[ 0.  0.  0.  0.  0.  0. -0.  0.]\n",
      "[0. 0. 0. 0. 0. 0. 0. 0.]\n",
      "[ 0.0e+00 -1.1e-04 -2.1e-04 -2.0e-04  1.0e-04 -4.0e-04  0.0e+00  0.0e+00]\n",
      "[0. 0. 0. 0. 0. 0. 0. 0.]\n",
      "[ 0.  0.  0.  0. -0.  0.  0.  0.]\n",
      "[0. 0. 0. 0. 0. 0. 0. 0.]\n",
      "[0. 0. 0. 0. 0. 0. 0. 0.]\n",
      "[0. 0. 0. 0. 0. 0. 0. 0.]\n",
      "[0. 0. 0. 0. 0. 0. 0. 0.]\n",
      "[0. 0. 0. 0. 0. 0. 0. 0.]\n",
      "[0. 0. 0. 0. 0. 0. 0. 0.]\n",
      "[0. 0. 0. 0. 0. 0. 0. 0.]\n",
      "[0. 0. 0. 0. 0. 0. 0. 0.]\n",
      "[0. 0. 0. 0. 0. 0. 0. 0.]\n",
      "[0. 0. 0. 0. 0. 0. 0. 0.]\n",
      "[0. 0. 0. 0. 0. 0. 0. 0.]\n",
      "[0. 0. 0. 0. 0. 0. 0. 0.]\n",
      "[0. 0. 0. 0. 0. 0. 0. 0.]\n",
      "[0. 0. 0. 0. 0. 0. 0. 0.]\n",
      "[0. 0. 0. 0. 0. 0. 0. 0.]\n",
      "[0. 0. 0. 0. 0. 0. 0. 0.]\n"
     ]
    }
   ],
   "source": [
    "act0=trajs[0]\n",
    "for act in trajs[1:]:\n",
    "    da=act-act0\n",
    "    print(da) \n",
    "    act0=act\n",
    "    env.step(da)\n",
    "    env.render()\n",
    "    "
   ]
  },
  {
   "cell_type": "code",
   "execution_count": 46,
   "metadata": {},
   "outputs": [],
   "source": [
    "env.close()"
   ]
  },
  {
   "cell_type": "code",
   "execution_count": 40,
   "metadata": {},
   "outputs": [
    {
     "data": {
      "text/plain": [
       "array([0., 0., 0., 0., 0., 0., 0., 0.])"
      ]
     },
     "execution_count": 40,
     "metadata": {},
     "output_type": "execute_result"
    }
   ],
   "source": [
    "da"
   ]
  },
  {
   "cell_type": "code",
   "execution_count": 47,
   "metadata": {},
   "outputs": [
    {
     "data": {
      "text/plain": [
       "array([-1.119,  0.701,  0.492, -2.114,  1.282, -0.963, -1.887, -3.381])"
      ]
     },
     "execution_count": 47,
     "metadata": {},
     "output_type": "execute_result"
    }
   ],
   "source": [
    "trajs[0]"
   ]
  },
  {
   "attachments": {},
   "cell_type": "markdown",
   "metadata": {},
   "source": [
    "trajs[-1]"
   ]
  },
  {
   "cell_type": "code",
   "execution_count": 48,
   "metadata": {},
   "outputs": [
    {
     "data": {
      "text/plain": [
       "array([-1.119,  0.673,  0.22 , -2.061,  1.15 , -1.191, -1.944, -3.381])"
      ]
     },
     "execution_count": 48,
     "metadata": {},
     "output_type": "execute_result"
    }
   ],
   "source": [
    "trajs[-1]"
   ]
  },
  {
   "cell_type": "code",
   "execution_count": null,
   "metadata": {},
   "outputs": [],
   "source": []
  },
  {
   "cell_type": "code",
   "execution_count": null,
   "metadata": {},
   "outputs": [],
   "source": []
  },
  {
   "cell_type": "code",
   "execution_count": 21,
   "metadata": {},
   "outputs": [],
   "source": [
    "env = suite.make(\n",
    "    args.environment,\n",
    "    robots=args.robots,\n",
    "    ignore_done=True,\n",
    "    use_camera_obs=True,\n",
    "    has_renderer=False,\n",
    "    has_offscreen_renderer=True,\n",
    "    render_camera=\"frontview\",\n",
    "    control_freq=20,\n",
    ")"
   ]
  },
  {
   "cell_type": "code",
   "execution_count": 5,
   "metadata": {},
   "outputs": [],
   "source": [
    "import imageio"
   ]
  },
  {
   "cell_type": "code",
   "execution_count": 6,
   "metadata": {},
   "outputs": [
    {
     "data": {
      "text/plain": [
       "odict_keys(['robot0_joint_pos_cos', 'robot0_joint_pos_sin', 'robot0_joint_vel', 'robot0_eef_pos', 'robot0_eef_quat', 'robot0_gripper_qpos', 'robot0_gripper_qvel', 'agentview_image', 'cube_pos', 'cube_quat', 'gripper_to_cube_pos', 'robot0_proprio-state', 'object-state'])"
      ]
     },
     "execution_count": 6,
     "metadata": {},
     "output_type": "execute_result"
    }
   ],
   "source": [
    "obs = env.reset()\n",
    "obs.keys()"
   ]
  },
  {
   "cell_type": "code",
   "execution_count": 10,
   "metadata": {},
   "outputs": [
    {
     "data": {
      "text/plain": [
       "array([-1.1188 ,  0.70109,  0.49193, -2.1141 ,  1.2817 , -0.96258,\n",
       "       -1.8872 , -3.3815 ])"
      ]
     },
     "execution_count": 10,
     "metadata": {},
     "output_type": "execute_result"
    }
   ],
   "source": [
    "trajs[0]"
   ]
  },
  {
   "cell_type": "code",
   "execution_count": 11,
   "metadata": {},
   "outputs": [],
   "source": [
    "env.robots[0].set_robot_joint_positions(trajs[0][1:])"
   ]
  },
  {
   "cell_type": "code",
   "execution_count": 15,
   "metadata": {},
   "outputs": [
    {
     "ename": "TypeError",
     "evalue": "render() got an unexpected keyword argument 'height'",
     "output_type": "error",
     "traceback": [
      "\u001b[0;31m---------------------------------------------------------------------------\u001b[0m",
      "\u001b[0;31mTypeError\u001b[0m                                 Traceback (most recent call last)",
      "\u001b[0;32m/tmp/ipykernel_305437/280808408.py\u001b[0m in \u001b[0;36m<module>\u001b[0;34m\u001b[0m\n\u001b[1;32m     12\u001b[0m \u001b[0;34m\u001b[0m\u001b[0m\n\u001b[1;32m     13\u001b[0m     \u001b[0;31m# frame = obs[\"agentview\" + \"_image\"]\u001b[0m\u001b[0;34m\u001b[0m\u001b[0;34m\u001b[0m\u001b[0;34m\u001b[0m\u001b[0m\n\u001b[0;32m---> 14\u001b[0;31m     \u001b[0mframe\u001b[0m\u001b[0;34m=\u001b[0m\u001b[0menv\u001b[0m\u001b[0;34m.\u001b[0m\u001b[0mrender\u001b[0m\u001b[0;34m(\u001b[0m\u001b[0mheight\u001b[0m\u001b[0;34m=\u001b[0m\u001b[0;36m512\u001b[0m\u001b[0;34m,\u001b[0m \u001b[0mwidth\u001b[0m\u001b[0;34m=\u001b[0m\u001b[0;36m512\u001b[0m\u001b[0;34m,\u001b[0m \u001b[0mcamera_name\u001b[0m\u001b[0;34m=\u001b[0m\u001b[0;34m\"frontview\"\u001b[0m\u001b[0;34m)\u001b[0m\u001b[0;34m\u001b[0m\u001b[0;34m\u001b[0m\u001b[0m\n\u001b[0m\u001b[1;32m     15\u001b[0m     \u001b[0mwriter\u001b[0m\u001b[0;34m.\u001b[0m\u001b[0mappend_data\u001b[0m\u001b[0;34m(\u001b[0m\u001b[0mframe\u001b[0m\u001b[0;34m)\u001b[0m\u001b[0;34m\u001b[0m\u001b[0;34m\u001b[0m\u001b[0m\n\u001b[1;32m     16\u001b[0m \u001b[0;34m\u001b[0m\u001b[0m\n",
      "\u001b[0;31mTypeError\u001b[0m: render() got an unexpected keyword argument 'height'"
     ]
    }
   ],
   "source": [
    "ndim = env.action_dim\n",
    "\n",
    "# create a video writer with imageio\n",
    "writer = imageio.get_writer(\"ok.mp4\", fps=20)\n",
    "\n",
    "frames = []\n",
    "# for i in range(100):\n",
    "#     action = 0.5 * np.random.randn(ndim)\n",
    "\n",
    "for action in trajs:\n",
    "    env.robots[0].set_robot_joint_positions(action[1:])\n",
    "\n",
    "    # frame = obs[\"agentview\" + \"_image\"]\n",
    "    frame=env.render(mode=\"rgb_array\", height=512, width=512, camera_name=\"frontview\")\n",
    "    writer.append_data(frame)  \n",
    "\n",
    "writer.close()"
   ]
  },
  {
   "cell_type": "code",
   "execution_count": 16,
   "metadata": {},
   "outputs": [
    {
     "ename": "AttributeError",
     "evalue": "'NoneType' object has no attribute 'render'",
     "output_type": "error",
     "traceback": [
      "\u001b[0;31m---------------------------------------------------------------------------\u001b[0m",
      "\u001b[0;31mAttributeError\u001b[0m                            Traceback (most recent call last)",
      "\u001b[0;32m/tmp/ipykernel_305437/3653216573.py\u001b[0m in \u001b[0;36m<module>\u001b[0;34m\u001b[0m\n\u001b[0;32m----> 1\u001b[0;31m \u001b[0menv\u001b[0m\u001b[0;34m.\u001b[0m\u001b[0mrender\u001b[0m\u001b[0;34m(\u001b[0m\u001b[0;34m)\u001b[0m\u001b[0;34m\u001b[0m\u001b[0;34m\u001b[0m\u001b[0m\n\u001b[0m",
      "\u001b[0;32m~/robosuite/robosuite/environments/base.py\u001b[0m in \u001b[0;36mrender\u001b[0;34m(self)\u001b[0m\n\u001b[1;32m    440\u001b[0m         \u001b[0mRenders\u001b[0m \u001b[0mto\u001b[0m \u001b[0man\u001b[0m \u001b[0mon\u001b[0m\u001b[0;34m-\u001b[0m\u001b[0mscreen\u001b[0m \u001b[0mwindow\u001b[0m\u001b[0;34m.\u001b[0m\u001b[0;34m\u001b[0m\u001b[0;34m\u001b[0m\u001b[0m\n\u001b[1;32m    441\u001b[0m         \"\"\"\n\u001b[0;32m--> 442\u001b[0;31m         \u001b[0mself\u001b[0m\u001b[0;34m.\u001b[0m\u001b[0mviewer\u001b[0m\u001b[0;34m.\u001b[0m\u001b[0mrender\u001b[0m\u001b[0;34m(\u001b[0m\u001b[0;34m)\u001b[0m\u001b[0;34m\u001b[0m\u001b[0;34m\u001b[0m\u001b[0m\n\u001b[0m\u001b[1;32m    443\u001b[0m \u001b[0;34m\u001b[0m\u001b[0m\n\u001b[1;32m    444\u001b[0m     \u001b[0;32mdef\u001b[0m \u001b[0mobservation_spec\u001b[0m\u001b[0;34m(\u001b[0m\u001b[0mself\u001b[0m\u001b[0;34m)\u001b[0m\u001b[0;34m:\u001b[0m\u001b[0;34m\u001b[0m\u001b[0;34m\u001b[0m\u001b[0m\n",
      "\u001b[0;31mAttributeError\u001b[0m: 'NoneType' object has no attribute 'render'"
     ]
    }
   ],
   "source": [
    "env.render()"
   ]
  },
  {
   "cell_type": "code",
   "execution_count": 30,
   "metadata": {},
   "outputs": [
    {
     "data": {
      "text/plain": [
       "63"
      ]
     },
     "execution_count": 30,
     "metadata": {},
     "output_type": "execute_result"
    }
   ],
   "source": [
    "len(trajs)"
   ]
  },
  {
   "cell_type": "code",
   "execution_count": 19,
   "metadata": {},
   "outputs": [
    {
     "data": {
      "text/plain": [
       "odict_keys(['robot0_joint_pos_cos', 'robot0_joint_pos_sin', 'robot0_joint_vel', 'robot0_eef_pos', 'robot0_eef_quat', 'robot0_gripper_qpos', 'robot0_gripper_qvel', 'agentview_image', 'cube_pos', 'cube_quat', 'gripper_to_cube_pos', 'robot0_proprio-state', 'object-state'])"
      ]
     },
     "execution_count": 19,
     "metadata": {},
     "output_type": "execute_result"
    }
   ],
   "source": [
    "obs.keys()"
   ]
  },
  {
   "cell_type": "code",
   "execution_count": 21,
   "metadata": {},
   "outputs": [
    {
     "data": {
      "text/plain": [
       "array([-0.10394849, -1.24053453,  0.00801046,  2.16060058, -0.00855128,\n",
       "        0.52680617,  3.30082113])"
      ]
     },
     "execution_count": 21,
     "metadata": {},
     "output_type": "execute_result"
    }
   ],
   "source": [
    "env.robots[0]._joint_positions"
   ]
  },
  {
   "cell_type": "code",
   "execution_count": 23,
   "metadata": {},
   "outputs": [],
   "source": [
    "env.robots[0].set_robot_joint_positions(env.robots[0]._joint_positions)"
   ]
  },
  {
   "cell_type": "code",
   "execution_count": null,
   "metadata": {},
   "outputs": [],
   "source": []
  },
  {
   "cell_type": "code",
   "execution_count": null,
   "metadata": {},
   "outputs": [],
   "source": []
  },
  {
   "cell_type": "code",
   "execution_count": null,
   "metadata": {},
   "outputs": [],
   "source": []
  },
  {
   "cell_type": "code",
   "execution_count": null,
   "metadata": {},
   "outputs": [],
   "source": []
  },
  {
   "cell_type": "code",
   "execution_count": null,
   "metadata": {},
   "outputs": [],
   "source": []
  }
 ],
 "metadata": {
  "kernelspec": {
   "display_name": "robosuite",
   "language": "python",
   "name": "python3"
  },
  "language_info": {
   "codemirror_mode": {
    "name": "ipython",
    "version": 3
   },
   "file_extension": ".py",
   "mimetype": "text/x-python",
   "name": "python",
   "nbconvert_exporter": "python",
   "pygments_lexer": "ipython3",
   "version": "3.8.16 (default, Jan 17 2023, 23:13:24) \n[GCC 11.2.0]"
  },
  "orig_nbformat": 4,
  "vscode": {
   "interpreter": {
    "hash": "0d4242a2ce141748e6109d2e1f5b18e6975c8f8be333cffdb6faf41580d89511"
   }
  }
 },
 "nbformat": 4,
 "nbformat_minor": 2
}
